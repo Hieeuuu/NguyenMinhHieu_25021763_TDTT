{
 "cells": [
  {
   "cell_type": "code",
   "execution_count": 35,
   "id": "51f953dc-75aa-46a9-855e-dfe1cf721ec8",
   "metadata": {},
   "outputs": [
    {
     "name": "stdin",
     "output_type": "stream",
     "text": [
      " 3\n"
     ]
    },
    {
     "name": "stdout",
     "output_type": "stream",
     "text": [
      "6\n"
     ]
    }
   ],
   "source": [
    "n = int(input())\n",
    "print(2*n)"
   ]
  },
  {
   "cell_type": "code",
   "execution_count": 5,
   "id": "6eb3e890-f877-4cf4-baa3-02d9ecf9a6f2",
   "metadata": {},
   "outputs": [
    {
     "name": "stdin",
     "output_type": "stream",
     "text": [
      " 1 1\n"
     ]
    },
    {
     "name": "stdout",
     "output_type": "stream",
     "text": [
      "0.21\n"
     ]
    }
   ],
   "source": [
    "a, b = map(float, input().split())\n",
    "print(f'{a * b - (a/2)*(a/2)*3.14:.2f}')"
   ]
  },
  {
   "cell_type": "code",
   "execution_count": 11,
   "id": "7287979a-0417-4f13-b5dd-a12872095bf7",
   "metadata": {},
   "outputs": [
    {
     "name": "stdin",
     "output_type": "stream",
     "text": [
      " A\n"
     ]
    },
    {
     "name": "stdout",
     "output_type": "stream",
     "text": [
      "a\n"
     ]
    }
   ],
   "source": [
    "c = input()\n",
    "if len(c) == 1:\n",
    "    if c.isupper():\n",
    "        print(c.lower())\n",
    "    elif c.islower():\n",
    "        print(c.upper())\n",
    "    else: print(\"Khong phai ky tu alphabet\")\n",
    "else: print(\"Khong phai mot ky tu\")"
   ]
  },
  {
   "cell_type": "code",
   "execution_count": 15,
   "id": "d713f36a-b7f7-4e6b-a58e-8cb1b22fbfc8",
   "metadata": {},
   "outputs": [
    {
     "name": "stdin",
     "output_type": "stream",
     "text": [
      " *\n"
     ]
    },
    {
     "name": "stdout",
     "output_type": "stream",
     "text": [
      "* không phải là ký tự alphabet\n"
     ]
    }
   ],
   "source": [
    "n = input()\n",
    "if ord(n) >= 65 and ord(n) <129:\n",
    "    print(n,'là kí tự alphabet')\n",
    "else: print(n,'không phải là ký tự alphabet')"
   ]
  },
  {
   "cell_type": "code",
   "execution_count": 36,
   "id": "52824011-2db5-4f65-ba2a-775981718104",
   "metadata": {},
   "outputs": [
    {
     "name": "stdin",
     "output_type": "stream",
     "text": [
      " s\n"
     ]
    },
    {
     "name": "stdout",
     "output_type": "stream",
     "text": [
      "S\n"
     ]
    }
   ],
   "source": [
    "c = input()\n",
    "if c == 'A':\n",
    "    print('no')\n",
    "else: print(chr(ord(c)+31)"
   ]
  },
  {
   "cell_type": "code",
   "execution_count": 40,
   "id": "914507e3-abde-4049-8356-b7d3671a3b39",
   "metadata": {},
   "outputs": [
    {
     "name": "stdin",
     "output_type": "stream",
     "text": [
      " 3 4 5\n"
     ]
    },
    {
     "name": "stdout",
     "output_type": "stream",
     "text": [
      "a, b, c la 3 canh cua 1 tam giac\n",
      "6.0\n"
     ]
    }
   ],
   "source": [
    "a,b,c = map(int, input().split())\n",
    "if a+b>c and a+c>b and b+c>a and a>0 and b>0 and c>0:\n",
    "    print(\"a, b, c la 3 canh cua 1 tam giac\")\n",
    "    p=(a+b+c)/2\n",
    "    print(f'{((p-a)*(p-b)*(p-c)*p)**0.5:.1f}')\n",
    "else: print(\"a, b, c khong phai 3 canh cua 1 tam giac\")"
   ]
  },
  {
   "cell_type": "code",
   "execution_count": 42,
   "id": "e106bad7-e16e-4345-aacc-1a02a3b3d670",
   "metadata": {},
   "outputs": [
    {
     "name": "stdin",
     "output_type": "stream",
     "text": [
      " pjunihmodystwrsvxgdf\n"
     ]
    },
    {
     "name": "stdout",
     "output_type": "stream",
     "text": [
      "i d\n"
     ]
    }
   ],
   "source": [
    "a=input()\n",
    "print(a[4],a[8])"
   ]
  },
  {
   "cell_type": "code",
   "execution_count": 60,
   "id": "eed1ce0c-e965-4551-a088-7854c3a407f8",
   "metadata": {},
   "outputs": [
    {
     "name": "stdin",
     "output_type": "stream",
     "text": [
      "Ten chu ho: Nguyen Xuan Hai\n",
      "Chi so thang truoc: 2000\n",
      "Chi so thang nay: 2586\n"
     ]
    },
    {
     "name": "stdout",
     "output_type": "stream",
     "text": [
      "\n",
      "Ho va ten: Nguyen Xuan Hai\n",
      "Tien phai tra la: 1855505\n"
     ]
    }
   ],
   "source": [
    "ten = input('Ten chu ho:')\n",
    "a = int(input('Chi so thang truoc:'))\n",
    "b = int(input('Chi so thang nay:'))\n",
    "print(\"\\nHo va ten:\", ten)\n",
    "lech = b-a\n",
    "tien = 0\n",
    "if lech>=401:\n",
    "    tien += (lech - 400)*3460\n",
    "    lech = 400\n",
    "if 301 <= lech <= 400:\n",
    "    tien += (lech-300)*3350\n",
    "    lech = 300\n",
    "if 201 <= lech <= 300:\n",
    "    tien += (lech - 200)*2998\n",
    "    lech = 200\n",
    "if 101 <= lech <= 200:\n",
    "    tien += (lech - 100)*2380\n",
    "    lech = 100\n",
    "if 51 <= lech <= 100:\n",
    "    tien += (lech - 50)*2050\n",
    "    lech = 50\n",
    "if lech <= 50:\n",
    "    tien += lech*1984\n",
    "print(f'Tien phai tra la: {tien*1.08:.0f}')"
   ]
  }
 ],
 "metadata": {
  "kernelspec": {
   "display_name": "Python 3 (ipykernel)",
   "language": "python",
   "name": "python3"
  },
  "language_info": {
   "codemirror_mode": {
    "name": "ipython",
    "version": 3
   },
   "file_extension": ".py",
   "mimetype": "text/x-python",
   "name": "python",
   "nbconvert_exporter": "python",
   "pygments_lexer": "ipython3",
   "version": "3.12.5"
  }
 },
 "nbformat": 4,
 "nbformat_minor": 5
}
